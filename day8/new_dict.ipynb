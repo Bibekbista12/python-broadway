{
 "cells": [
  {
   "cell_type": "code",
   "execution_count": 1,
   "id": "9233cc39",
   "metadata": {},
   "outputs": [
    {
     "name": "stdout",
     "output_type": "stream",
     "text": [
      "{'name': 'john', 'age': 30}\n"
     ]
    }
   ],
   "source": [
    "a={\"name\":\"john\",\"age\":30}#creating non empty dictionary\n",
    "print(a)"
   ]
  },
  {
   "cell_type": "code",
   "execution_count": 2,
   "id": "b7957f8c",
   "metadata": {},
   "outputs": [
    {
     "name": "stdout",
     "output_type": "stream",
     "text": [
      "{'name': 'john', 'age': 30}\n"
     ]
    }
   ],
   "source": [
    "a=dict(name=\"john\",age=30)\n",
    "print(a)"
   ]
  },
  {
   "cell_type": "code",
   "execution_count": 3,
   "id": "23c8ec25",
   "metadata": {},
   "outputs": [
    {
     "ename": "SyntaxError",
     "evalue": "invalid syntax. Perhaps you forgot a comma? (1526850926.py, line 1)",
     "output_type": "error",
     "traceback": [
      "\u001b[1;36m  Cell \u001b[1;32mIn[3], line 1\u001b[1;36m\u001b[0m\n\u001b[1;33m    a={first name:\"john\",\"age\":30}\u001b[0m\n\u001b[1;37m       ^\u001b[0m\n\u001b[1;31mSyntaxError\u001b[0m\u001b[1;31m:\u001b[0m invalid syntax. Perhaps you forgot a comma?\n"
     ]
    }
   ],
   "source": [
    "a={first name:\"john\",\"age\":30}\n",
    "print(a)"
   ]
  },
  {
   "cell_type": "code",
   "execution_count": 7,
   "id": "8a86f9fe",
   "metadata": {},
   "outputs": [
    {
     "name": "stdout",
     "output_type": "stream",
     "text": [
      "{'first_name': 'john', 'last_name': 'doe'}\n"
     ]
    }
   ],
   "source": [
    "a=dict(first_name=\"john\",last_name=\"doe\")\n",
    "print(a)"
   ]
  },
  {
   "cell_type": "code",
   "execution_count": 13,
   "id": "3a9cf510",
   "metadata": {},
   "outputs": [
    {
     "name": "stdout",
     "output_type": "stream",
     "text": [
      "KTM\n",
      "jane\n",
      "None\n"
     ]
    }
   ],
   "source": [
    "#accesing dictionary elements\n",
    "student={\"name\":\"jane\",\"age\": 30,\"address\":\"KTM\"}\n",
    "address= student['address']\n",
    "print(address)\n",
    "#print(student[\"roll_no\"])#error\n",
    "\n",
    "name=student.get(\"name\")\n",
    "print(name)\n",
    "print(student.get(\"roll_no\"))\n"
   ]
  },
  {
   "cell_type": "code",
   "execution_count": 15,
   "id": "158482b0",
   "metadata": {},
   "outputs": [
    {
     "name": "stdout",
     "output_type": "stream",
     "text": [
      "{'name': 'alex', 'age': 30, 'address': 'KTM', 'roll_no': 2}\n"
     ]
    }
   ],
   "source": [
    "#adding and updating dictionary elements\n",
    "student={\"name\":\"jane\",\"age\": 30,\"address\":\"KTM\"}\n",
    "student[\"roll_no\"]=2\n",
    "student[\"name\"]=\"alex\"\n",
    "print(student)\n"
   ]
  },
  {
   "cell_type": "code",
   "execution_count": 19,
   "id": "e0e301ef",
   "metadata": {},
   "outputs": [
    {
     "ename": "SyntaxError",
     "evalue": "cannot assign to literal here. Maybe you meant '==' instead of '='? (3514109504.py, line 2)",
     "output_type": "error",
     "traceback": [
      "\u001b[1;36m  Cell \u001b[1;32mIn[19], line 2\u001b[1;36m\u001b[0m\n\u001b[1;33m    student.update=(\"email\"=\"jane@gmail.com\",\"contact\"=987676766)\u001b[0m\n\u001b[1;37m                    ^\u001b[0m\n\u001b[1;31mSyntaxError\u001b[0m\u001b[1;31m:\u001b[0m cannot assign to literal here. Maybe you meant '==' instead of '='?\n"
     ]
    }
   ],
   "source": [
    "student={\"name\":\"jane\",\"age\": 30,\"address\":\"KTM\"}\n",
    "student.update=(\"email\"=\"jane@gmail.com\",\"contact\"=987676766)\n",
    "print(student)"
   ]
  },
  {
   "cell_type": "code",
   "execution_count": 21,
   "id": "7b9f7d57",
   "metadata": {},
   "outputs": [
    {
     "name": "stdout",
     "output_type": "stream",
     "text": [
      "{'name': 'jane', 'age': 30}\n",
      "KTM\n"
     ]
    }
   ],
   "source": [
    "#removing dict elements\n",
    "student={\"name\":\"jane\",\"age\": 30,\"address\":\"KTM\"}\n",
    "address=student.pop(\"address\")\n",
    "print(student)\n",
    "print(address)"
   ]
  },
  {
   "cell_type": "code",
   "execution_count": 22,
   "id": "df482b3d",
   "metadata": {},
   "outputs": [
    {
     "name": "stdout",
     "output_type": "stream",
     "text": [
      "{'name': 'jane', 'age': 30}\n",
      "('address', 'KTM')\n"
     ]
    }
   ],
   "source": [
    "student={\"name\":\"jane\",\"age\": 30,\"address\":\"KTM\"}\n",
    "x=student.popitem()\n",
    "print(student)\n",
    "print(x)"
   ]
  },
  {
   "cell_type": "code",
   "execution_count": 23,
   "id": "65a275a2",
   "metadata": {},
   "outputs": [
    {
     "name": "stdout",
     "output_type": "stream",
     "text": [
      "{'name': 'jane', 'age': 30}\n",
      "address\n",
      "KTM\n"
     ]
    }
   ],
   "source": [
    "student={\"name\":\"jane\",\"age\": 30,\"address\":\"KTM\"}\n",
    "key,value= student.popitem()\n",
    "print(student)\n",
    "print(key)\n",
    "print(value)\n",
    "student.clear()"
   ]
  },
  {
   "cell_type": "code",
   "execution_count": null,
   "id": "42dee6ea",
   "metadata": {},
   "outputs": [],
   "source": [
    "#restriction in dictionary keys\n",
    "#all the immutable objects can be used as a dictionary key\n",
    "#there is no restriction in dict values\n"
   ]
  },
  {
   "cell_type": "code",
   "execution_count": 25,
   "id": "d39c194a",
   "metadata": {},
   "outputs": [
    {
     "name": "stdout",
     "output_type": "stream",
     "text": [
      "doe\n"
     ]
    }
   ],
   "source": [
    "data={1:\"jon\",2:\"doe\"}\n",
    "print(data[2])"
   ]
  },
  {
   "cell_type": "code",
   "execution_count": 26,
   "id": "37b074dc",
   "metadata": {},
   "outputs": [
    {
     "name": "stdout",
     "output_type": "stream",
     "text": [
      "doe\n"
     ]
    }
   ],
   "source": [
    "data={1.1:\"jon\",3.2:\"doe\"}\n",
    "print(data[3.2])"
   ]
  },
  {
   "cell_type": "code",
   "execution_count": 29,
   "id": "9de38bcd",
   "metadata": {},
   "outputs": [
    {
     "name": "stdout",
     "output_type": "stream",
     "text": [
      "{(1, 2): 'jon', 'age': 30}\n"
     ]
    }
   ],
   "source": [
    "#data={[1,2]:\"jon\",\"age\":30}#invalid\n",
    "data={(1,2):\"jon\",\"age\":30}\n",
    "print(data)"
   ]
  },
  {
   "cell_type": "code",
   "execution_count": null,
   "id": "6e5b1983",
   "metadata": {},
   "outputs": [],
   "source": [
    "#member operation (\"in\"and not in)\n",
    "#membership in dict is checked in keys(not in values)"
   ]
  },
  {
   "cell_type": "code",
   "execution_count": 31,
   "id": "b4dc937d",
   "metadata": {},
   "outputs": [
    {
     "name": "stdout",
     "output_type": "stream",
     "text": [
      "name\n"
     ]
    }
   ],
   "source": [
    "student={\"name\":\"alex\",\"age\":30}\n",
    "name=student.get(\"name\",\"alex\")\n",
    "print(\"name\")"
   ]
  },
  {
   "cell_type": "code",
   "execution_count": 36,
   "id": "0c4304ce",
   "metadata": {},
   "outputs": [
    {
     "name": "stdout",
     "output_type": "stream",
     "text": [
      "dict_keys(['name', 'age', 'addrss'])\n",
      "dict_values(['alex', 30, 'KTM'])\n",
      "dict_items([('name', 'alex'), ('age', 30), ('addrss', 'KTM')])\n",
      "('name', 'alex')\n",
      "('age', 30)\n",
      "('addrss', 'KTM')\n"
     ]
    }
   ],
   "source": [
    "#keys\n",
    "student={\"name\":\"alex\",\"age\":30,\"addrss\":\"KTM\"}\n",
    "print(student.keys())\n",
    "#keys=student.keys()notvalid\n",
    "#print(keys[0])\n",
    "#values\n",
    "print(student.values())\n",
    "#items\n",
    "items=student.items()\n",
    "print(items)\n",
    "for i in items:\n",
    "    print(i)\n",
    "for key\n"
   ]
  },
  {
   "cell_type": "code",
   "execution_count": 38,
   "id": "e279ecd0",
   "metadata": {},
   "outputs": [
    {
     "name": "stdout",
     "output_type": "stream",
     "text": [
      "enter the radius4\n",
      "the area of the circle is: 50.24\n"
     ]
    }
   ],
   "source": [
    "r=float(input(\"enter the radius\"))\n",
    "area=3.14*r**2\n",
    "print(\"the area of the circle is:\",area)\n"
   ]
  },
  {
   "cell_type": "code",
   "execution_count": 41,
   "id": "908b52fc",
   "metadata": {},
   "outputs": [
    {
     "name": "stdout",
     "output_type": "stream",
     "text": [
      "Ener a number:3\n",
      "3 frequency of input in list is:4\n"
     ]
    }
   ],
   "source": [
    "no=[5,2,3,5,3,2,3,3,1,4]\n",
    "input_no=int(input('Ener a number:'))\n",
    "frequency=no.count(input_no)\n",
    "print(f\"{input_no} frequency of input in list is:{frequency}\")\n"
   ]
  },
  {
   "cell_type": "code",
   "execution_count": null,
   "id": "c4ccf048",
   "metadata": {},
   "outputs": [],
   "source": []
  }
 ],
 "metadata": {
  "kernelspec": {
   "display_name": "Python 3 (ipykernel)",
   "language": "python",
   "name": "python3"
  },
  "language_info": {
   "codemirror_mode": {
    "name": "ipython",
    "version": 3
   },
   "file_extension": ".py",
   "mimetype": "text/x-python",
   "name": "python",
   "nbconvert_exporter": "python",
   "pygments_lexer": "ipython3",
   "version": "3.10.9"
  }
 },
 "nbformat": 4,
 "nbformat_minor": 5
}
